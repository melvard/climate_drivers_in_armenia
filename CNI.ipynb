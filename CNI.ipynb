{
 "cells": [
  {
   "cell_type": "code",
   "execution_count": 6,
   "id": "a2840eb5",
   "metadata": {
    "scrolled": true
   },
   "outputs": [],
   "source": [
    "import dependency_installer\n",
    "import xarray as xr\n",
    "from data_hunter_era5 import DataRetriver\n",
    "import matplotlib.pyplot as plt\n",
    "\n",
    "\n",
    "%matplotlib inline\n",
    "# dependency_installer.main()"
   ]
  },
  {
   "cell_type": "code",
   "execution_count": 9,
   "id": "028376e0-863f-413f-bbf3-105a81e0e121",
   "metadata": {},
   "outputs": [],
   "source": [
    "from pgmpy.models import BayesianNetwork\n",
    "from pgmpy.estimators import ParameterEstimator, StructureEstimator\n",
    "from pgmpy.inference import VariableElimination\n",
    "import pandas as pd\n",
    "\n",
    "longitude_value = 44.51420518337152\n",
    "latitude_value = 40.18315899637762\n",
    "\n",
    "cni_observed_Data = DataRetriver.retrive_custom_data(\n",
    "    startDate='2019-11-25',\n",
    "    endDate='2019-11-28',\n",
    "    properties= ['10m_u_component_of_wind', '10m_v_component_of_wind','2m_temperature','surface_pressure', 'soil_temperature_level_1'],\n",
    "    long_min = 43, \n",
    "    long_max = 46, \n",
    "    lat_min= 38.5,\n",
    "    lat_max= 41)\n",
    "\n",
    "# Assuming 'global_observed_data[0]' is your dataset\n",
    "# Extract the data for causal network inference\n",
    "\n",
    "\n",
    "\n",
    "data_for_causal_network = xr.merge(cni_observed_Data).sel(longitude=longitude_value, latitude=latitude_value, method='nearest').to_dataframe()\n",
    "\n",
    "# Drop the 'time' column as it is not needed for causal inference\n",
    "# data_for_causal_network = data_for_causal_network.drop(columns=['time'])\n",
    "\n",
    "# Define the structure of the Bayesian Network\n",
    "# You need to specify the causal relationships based on your domain knowledge\n",
    "# Here, I'm assuming a simple structure for demonstration purposes\n",
    "edges = [('u10', 't2m'), ('v10', 't2m'), ('sp', 't2m')]\n",
    "model = BayesianNetwork(edges)\n",
    "\n",
    "\n",
    "# Estimate the parameters of the model\n",
    "model.fit(data_for_causal_network)\n",
    "inference = VariableElimination(model)"
   ]
  },
  {
   "cell_type": "code",
   "execution_count": 13,
   "metadata": {},
   "outputs": [
    {
     "name": "stderr",
     "output_type": "stream",
     "text": [
      "WARNING:pgmpy:Found unknown state name. Trying to switch to using all state names as state numbers\n",
      "WARNING:pgmpy:Found unknown state name. Trying to switch to using all state names as state numbers\n",
      "WARNING:pgmpy:Found unknown state name. Trying to switch to using all state names as state numbers\n",
      "WARNING:pgmpy:Found unknown state name. Trying to switch to using all state names as state numbers\n",
      "WARNING:pgmpy:Found unknown state name. Trying to switch to using all state names as state numbers\n",
      "WARNING:pgmpy:Found unknown state name. Trying to switch to using all state names as state numbers\n",
      "Finding Elimination Order: : : 0it [00:00, ?it/s]\n",
      "0it [00:00, ?it/s]"
     ]
    },
    {
     "name": "stdout",
     "output_type": "stream",
     "text": [
      "Predicted t2m: {'t2m': 266.76334}\n"
     ]
    },
    {
     "name": "stderr",
     "output_type": "stream",
     "text": [
      "\n"
     ]
    }
   ],
   "source": [
    "predicted_t2m = inference.map_query(variables=['t2m'], evidence={'u10': 1, 'v10': 1, 'sp': 1})\n",
    "print('Predicted t2m:', predicted_t2m)"
   ]
  },
  {
   "cell_type": "code",
   "execution_count": 10,
   "id": "bbafb416",
   "metadata": {},
   "outputs": [
    {
     "data": {
      "image/png": "[encoded data removed]",
      "text/plain": [
       "<Figure size 800x600 with 1 Axes>"
      ]
     },
     "metadata": {},
     "output_type": "display_data"
    }
   ],
   "source": [
    "import networkx as nx\n",
    "\n",
    "# Visualize the model (optional)\n",
    "\n",
    "pos = nx.circular_layout(model)\n",
    "plt.figure(figsize=(8, 6))\n",
    "nx.draw(model, pos=pos, with_labels=True, node_size=2000, node_color=\"skyblue\", font_size=10, font_color=\"black\", font_weight=\"bold\")\n",
    "plt.title(\"Bayesian Network\")\n",
    "plt.show()"
   ]
  }
 ],
 "metadata": {
  "kernelspec": {
   "display_name": "Python 3 (ipykernel)",
   "language": "python",
   "name": "python3"
  },
  "language_info": {
   "codemirror_mode": {
    "name": "ipython",
    "version": 3
   },
   "file_extension": ".py",
   "mimetype": "text/x-python",
   "name": "python",
   "nbconvert_exporter": "python",
   "pygments_lexer": "ipython3",
   "version": "3.9.6"
  }
 },
 "nbformat": 4,
 "nbformat_minor": 5
}

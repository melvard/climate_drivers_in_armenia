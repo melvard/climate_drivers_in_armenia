{
 "cells": [
  {
   "cell_type": "code",
   "execution_count": 3,
   "id": "a2840eb5",
   "metadata": {
    "scrolled": true
   },
   "outputs": [],
   "source": [
    "import dependency_installer\n",
    "import xarray as xr\n",
    "from data_hunter_era5 import DataRetriver\n",
    "import matplotlib.pyplot as plt\n",
    "\n",
    "\n",
    "%matplotlib inline\n",
    "# dependency_installer.main()"
   ]
  },
  {
   "cell_type": "code",
   "execution_count": 4,
   "id": "faf044a5-b7c3-4f90-bbba-8f0c4e4f5da2",
   "metadata": {},
   "outputs": [
    {
     "name": "stdout",
     "output_type": "stream",
     "text": [
      "                            OLS Regression Results                            \n",
      "==============================================================================\n",
      "Dep. Variable:                    t2m   R-squared:                       0.752\n",
      "Model:                            OLS   Adj. R-squared:                  0.741\n",
      "Method:                 Least Squares   F-statistic:                     68.93\n",
      "Date:                Sun, 10 Dec 2023   Prob (F-statistic):           1.01e-26\n",
      "Time:                        18:57:24   Log-Likelihood:                -188.56\n",
      "No. Observations:                  96   AIC:                             387.1\n",
      "Df Residuals:                      91   BIC:                             399.9\n",
      "Df Model:                           4                                         \n",
      "Covariance Type:            nonrobust                                         \n",
      "==============================================================================\n",
      "                 coef    std err          t      P>|t|      [0.025      0.975]\n",
      "------------------------------------------------------------------------------\n",
      "const        921.1091    248.618      3.705      0.000     427.261    1414.958\n",
      "u10            3.1499      0.394      7.995      0.000       2.367       3.933\n",
      "v10           -0.1790      0.412     -0.434      0.665      -0.998       0.640\n",
      "sp            -0.0089      0.003     -3.505      0.001      -0.014      -0.004\n",
      "stl1           0.2830      0.217      1.304      0.196      -0.148       0.714\n",
      "==============================================================================\n",
      "Omnibus:                        0.728   Durbin-Watson:                   0.375\n",
      "Prob(Omnibus):                  0.695   Jarque-Bera (JB):                0.792\n",
      "Skew:                          -0.199   Prob(JB):                        0.673\n",
      "Kurtosis:                       2.799   Cond. No.                     1.12e+08\n",
      "==============================================================================\n",
      "\n",
      "Notes:\n",
      "[1] Standard Errors assume that the covariance matrix of the errors is correctly specified.\n",
      "[2] The condition number is large, 1.12e+08. This might indicate that there are\n",
      "strong multicollinearity or other numerical problems.\n"
     ]
    }
   ],
   "source": [
    "import statsmodels.api as sm\n",
    "import pandas as pd\n",
    "\n",
    "longitude_value = 44.51420518337152\n",
    "latitude_value = 40.18315899637762\n",
    "\n",
    "\n",
    "regression_observed_Data = DataRetriver.retrive_custom_data(\n",
    "    startDate='2019-11-25',\n",
    "    endDate='2019-11-28',\n",
    "    properties= ['10m_u_component_of_wind', '10m_v_component_of_wind','2m_temperature','surface_pressure', 'soil_temperature_level_1'],\n",
    "    long_min = 43, \n",
    "    long_max = 46, \n",
    "    lat_min= 38.5,\n",
    "    lat_max= 41)\n",
    "\n",
    "# Extract the data for multivariate regression\n",
    "\n",
    "data_for_regression = xr.merge(regression_observed_Data).sel(longitude=longitude_value, latitude=latitude_value, method='nearest').to_dataframe()\n",
    "\n",
    "# Drop the 'time' column as it is not needed for regression\n",
    "# data_for_regression = data_for_regression.drop(columns=['time'])\n",
    "\n",
    "# Define the target variable and independent variables\n",
    "target_variable = 't2m'\n",
    "independent_variables = ['u10', 'v10', 'sp', 'stl1']  # Adjust based on your specific variables\n",
    "\n",
    "# Extract the target and independent variables from the DataFrame\n",
    "y = data_for_regression[target_variable]\n",
    "X = data_for_regression[independent_variables]\n",
    "\n",
    "# Add a constant term to the independent variables matrix (required for statsmodels)\n",
    "X = sm.add_constant(X)\n",
    "\n",
    "# Fit the multivariate regression model\n",
    "model = sm.OLS(y, X).fit()\n",
    "\n",
    "# Print the regression summary\n",
    "print(model.summary())"
   ]
  }
 ],
 "metadata": {
  "kernelspec": {
   "display_name": "Python 3 (ipykernel)",
   "language": "python",
   "name": "python3"
  },
  "language_info": {
   "codemirror_mode": {
    "name": "ipython",
    "version": 3
   },
   "file_extension": ".py",
   "mimetype": "text/x-python",
   "name": "python",
   "nbconvert_exporter": "python",
   "pygments_lexer": "ipython3",
   "version": "3.9.6"
  }
 },
 "nbformat": 4,
 "nbformat_minor": 5
}

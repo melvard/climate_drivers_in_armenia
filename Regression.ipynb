{
 "cells": [
  {
   "cell_type": "code",
   "execution_count": 14,
   "id": "a2840eb5",
   "metadata": {
    "scrolled": true
   },
   "outputs": [],
   "source": [
    "import dependency_installer\n",
    "import xarray as xr\n",
    "from data_hunter_era5 import DataRetriver\n",
    "import matplotlib.pyplot as plt\n",
    "\n",
    "\n",
    "%matplotlib inline\n",
    "# dependency_installer.main()"
   ]
  },
  {
   "cell_type": "code",
   "execution_count": 15,
   "id": "faf044a5-b7c3-4f90-bbba-8f0c4e4f5da2",
   "metadata": {},
   "outputs": [
    {
     "name": "stdout",
     "output_type": "stream",
     "text": [
      "                            OLS Regression Results                            \n",
      "==============================================================================\n",
      "Dep. Variable:                    t2m   R-squared:                       0.836\n",
      "Model:                            OLS   Adj. R-squared:                  0.829\n",
      "Method:                 Least Squares   F-statistic:                     116.0\n",
      "Date:                Tue, 12 Dec 2023   Prob (F-statistic):           7.20e-35\n",
      "Time:                        01:04:01   Log-Likelihood:                -164.22\n",
      "No. Observations:                  96   AIC:                             338.4\n",
      "Df Residuals:                      91   BIC:                             351.3\n",
      "Df Model:                           4                                         \n",
      "Covariance Type:            nonrobust                                         \n",
      "==============================================================================\n",
      "                 coef    std err          t      P>|t|      [0.025      0.975]\n",
      "------------------------------------------------------------------------------\n",
      "const        506.9239    140.600      3.605      0.001     227.640     786.208\n",
      "u10           -0.2566      0.454     -0.565      0.574      -1.159       0.646\n",
      "v10            2.6088      0.253     10.314      0.000       2.106       3.111\n",
      "sp            -0.0059      0.001     -4.817      0.000      -0.008      -0.003\n",
      "stl1           0.9773      0.167      5.862      0.000       0.646       1.308\n",
      "==============================================================================\n",
      "Omnibus:                        5.328   Durbin-Watson:                   0.493\n",
      "Prob(Omnibus):                  0.070   Jarque-Bera (JB):                3.368\n",
      "Skew:                          -0.279   Prob(JB):                        0.186\n",
      "Kurtosis:                       2.272   Cond. No.                     8.51e+07\n",
      "==============================================================================\n",
      "\n",
      "Notes:\n",
      "[1] Standard Errors assume that the covariance matrix of the errors is correctly specified.\n",
      "[2] The condition number is large, 8.51e+07. This might indicate that there are\n",
      "strong multicollinearity or other numerical problems.\n",
      "Multivariate Regression Model Formula: \n",
      "t2m = 506.92 + -0.26 * u10 + 2.61 * v10 + -0.01 * sp + 0.98 * stl1\n"
     ]
    }
   ],
   "source": [
    "import statsmodels.api as sm\n",
    "import pandas as pd\n",
    "\n",
    "longitude_value = 44.51420518337152\n",
    "latitude_value = 40.18315899637762\n",
    "\n",
    "\n",
    "regression_observed_Data = DataRetriver.retrive_custom_data(\n",
    "    startDate='2019-11-25',\n",
    "    endDate='2019-11-28',\n",
    "    properties= ['10m_u_component_of_wind', '10m_v_component_of_wind','2m_temperature','surface_pressure', 'soil_temperature_level_1'],\n",
    "    long_min = 43, \n",
    "    long_max = 46, \n",
    "    lat_min= 38.5,\n",
    "    lat_max= 41)\n",
    "\n",
    "# Extract the data for multivariate regression\n",
    "\n",
    "data_for_regression = xr.merge(regression_observed_Data).sel(longitude=longitude_value, latitude=latitude_value, method='nearest').to_dataframe()\n",
    "\n",
    "# Drop the 'time' column as it is not needed for regression\n",
    "# data_for_regression = data_for_regression.drop(columns=['time'])\n",
    "\n",
    "# Define the target variable and independent variables\n",
    "target_variable = 't2m'\n",
    "independent_variables = ['u10', 'v10', 'sp', 'stl1']  # Adjust based on your specific variables\n",
    "\n",
    "# Extract the target and independent variables from the DataFrame\n",
    "y = data_for_regression[target_variable]\n",
    "X = data_for_regression[independent_variables]\n",
    "\n",
    "# Add a constant term to the independent variables matrix (required for statsmodels)\n",
    "X = sm.add_constant(X)\n",
    "\n",
    "# Fit the multivariate regression model\n",
    "model = sm.OLS(y, X).fit()\n",
    "\n",
    "# Print the regression summary\n",
    "print(model.summary())\n",
    "\n",
    "# Extract coefficients and intercept from the model\n",
    "coefficients = model.params\n",
    "intercept = model.params['const']\n",
    "\n",
    "# Extract variable names\n",
    "variable_names = coefficients.index.tolist()[1:]  # Exclude the intercept\n",
    "\n",
    "# Create the formula string\n",
    "formula_str = f\"{intercept:.2f} + \"\n",
    "formula_str += \" + \".join([f\"{coefficients[var]:.2f} * {var}\" for var in variable_names])\n",
    "\n",
    "# Print the formula\n",
    "print(f\"Multivariate Regression Model Formula: \\n{target_variable} = {formula_str}\")\n"
   ]
  }
 ],
 "metadata": {
  "kernelspec": {
   "display_name": "Python 3 (ipykernel)",
   "language": "python",
   "name": "python3"
  },
  "language_info": {
   "codemirror_mode": {
    "name": "ipython",
    "version": 3
   },
   "file_extension": ".py",
   "mimetype": "text/x-python",
   "name": "python",
   "nbconvert_exporter": "python",
   "pygments_lexer": "ipython3",
   "version": "3.9.6"
  }
 },
 "nbformat": 4,
 "nbformat_minor": 5
}

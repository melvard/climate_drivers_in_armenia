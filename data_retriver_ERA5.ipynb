{
 "cells": [
  {
   "cell_type": "code",
   "execution_count": 7,
   "id": "c13163c7",
   "metadata": {},
   "outputs": [],
   "source": [
    "import cdsapi\n",
    "import pandas as pd"
   ]
  },
  {
   "cell_type": "code",
   "execution_count": 4,
   "id": "57fcc4a1",
   "metadata": {},
   "outputs": [],
   "source": [
    "class DataRetriver:\n",
    "\n",
    "    def retrieve_single_day_data_func(day, month, year,parameter,filename):\n",
    "        c.retrieve(\n",
    "            'reanalysis-era5-single-levels',\n",
    "            {\n",
    "                'product_type':'reanalysis',\n",
    "                'format':'netcdf',\n",
    "                'variable':parameters,\n",
    "                'year':[\n",
    "                      year\n",
    "                ],\n",
    "                'month':[\n",
    "                      month\n",
    "                ],\n",
    "                'day':[\n",
    "                    day\n",
    "                ],\n",
    "                'time':[\n",
    "                    '00:00','01:00','02:00',\n",
    "                    '03:00','04:00','05:00',\n",
    "                    '06:00','07:00','08:00',\n",
    "                    '09:00','10:00','11:00',\n",
    "                    '12:00','13:00','14:00',\n",
    "                    '15:00','16:00','17:00',\n",
    "                    '18:00','19:00','20:00',\n",
    "                    '21:00','22:00','23:00'\n",
    "                ],\n",
    "                'area':'90/-180/-90/179.75'\n",
    "            },\n",
    "            filename)\n",
    "\n",
    "        def getDataList(parameters, start_date, end_date):\n",
    "            dataList = pd.date_range(startDate,endDate).tolist()\n",
    "            df = pd.to_datetime(dataList)\n",
    "            for i in df:\n",
    "                print(i.year,i.month,i.day)\n",
    "                filename = \"era5_\"+parameter+\"_\"+str(i.year)+\"_\"+str(i.month).zfill(2)+\"_\"+str(i.day).zfill(2)+\".nc\"\n",
    "                retrieve_func(str(i.day).zfill(2), str(i.month).zfill(2), i.year, parameters,filename)\n",
    "\n",
    "\n"
   ]
  },
  {
   "cell_type": "code",
   "execution_count": null,
   "id": "4734fa5d",
   "metadata": {},
   "outputs": [],
   "source": []
  }
 ],
 "metadata": {
  "kernelspec": {
   "display_name": "Python 3 (ipykernel)",
   "language": "python",
   "name": "python3"
  },
  "language_info": {
   "codemirror_mode": {
    "name": "ipython",
    "version": 3
   },
   "file_extension": ".py",
   "mimetype": "text/x-python",
   "name": "python",
   "nbconvert_exporter": "python",
   "pygments_lexer": "ipython3",
   "version": "3.11.3"
  }
 },
 "nbformat": 4,
 "nbformat_minor": 5
}
